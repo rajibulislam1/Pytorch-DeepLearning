{
 "cells": [
  {
   "cell_type": "code",
   "execution_count": 2,
   "id": "a3d0ceb0",
   "metadata": {},
   "outputs": [],
   "source": [
    "import torch\n",
    "import torch.nn as nn \n",
    "import torch.nn.functional as F ## essential building blocks for our models.\n",
    "from torch.utils.data import Dataset, DataLoader # Simplifies dataset handling and batching"
   ]
  },
  {
   "cell_type": "code",
   "execution_count": 5,
   "id": "06553762",
   "metadata": {},
   "outputs": [],
   "source": [
    "in_features = 1\n",
    "out_features = 1\n",
    "model = nn.Linear(in_features, out_features)"
   ]
  },
  {
   "cell_type": "code",
   "execution_count": 11,
   "id": "de4a961e",
   "metadata": {},
   "outputs": [
    {
     "name": "stdout",
     "output_type": "stream",
     "text": [
      "SimpleNet(\n",
      "  (linear1): Linear(in_features=1, out_features=10, bias=True)\n",
      "  (tanh): Tanh()\n",
      "  (linear2): Linear(in_features=10, out_features=1, bias=True)\n",
      ")\n",
      "Shape of dummy output: torch.Size([1, 1])\n"
     ]
    }
   ],
   "source": [
    "class SimpleNet(nn.Module):\n",
    "    def __init__(self, input_size, hidden_size, output_size):\n",
    "        super(SimpleNet, self).__init__()\n",
    "    ## Define the first fully connected layer\n",
    "        self.linear1 = nn.Linear(input_size, hidden_size)\n",
    "    ## Define the activation function\n",
    "        self.tanh = nn.Tanh()\n",
    "    ## Define the second fully connected layer\n",
    "        self.linear2 = nn.Linear(hidden_size, output_size)\n",
    "    \n",
    "    def forward(self, x):\n",
    "        # Define the forard pass\n",
    "        # 1. pass the input x through the first layer\n",
    "        out = self.linear1(x)\n",
    "        # 2. Apply the activation function\n",
    "        out = self.tanh(out)\n",
    "        # 3. Pass the result through the second layer \n",
    "        out = self.linear2(out)\n",
    "        return out   \n",
    "    \n",
    "# 3. Instantiate the 'SimpleNet' model with an input size of 1 , hidden size 10 and an output size 1  \n",
    "\n",
    "input_size = 1\n",
    "hidden_size = 10\n",
    "output_size = 1\n",
    "model = SimpleNet(input_size, hidden_size, output_size)\n",
    "\n",
    "# Move to GPU if available\n",
    "if torch.cuda.is_available():\n",
    "    model = model.cuda()   \n",
    "# Print the model architecture\n",
    "print(model)\n",
    "\n",
    "dummy_input = torch.randn(1, input_size)\n",
    "\n",
    "dummy_output = model(dummy_input)\n",
    "print(\"Shape of dummy output:\",dummy_output.shape)\n"
   ]
  },
  {
   "cell_type": "code",
   "execution_count": null,
   "id": "fb46dfde",
   "metadata": {},
   "outputs": [],
   "source": []
  }
 ],
 "metadata": {
  "kernelspec": {
   "display_name": "torchDL",
   "language": "python",
   "name": "python3"
  },
  "language_info": {
   "codemirror_mode": {
    "name": "ipython",
    "version": 3
   },
   "file_extension": ".py",
   "mimetype": "text/x-python",
   "name": "python",
   "nbconvert_exporter": "python",
   "pygments_lexer": "ipython3",
   "version": "3.11.13"
  }
 },
 "nbformat": 4,
 "nbformat_minor": 5
}
