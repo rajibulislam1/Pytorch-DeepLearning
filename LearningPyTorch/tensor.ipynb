{
 "cells": [
  {
   "cell_type": "code",
   "execution_count": 1,
   "id": "f3b72316",
   "metadata": {},
   "outputs": [],
   "source": [
    "import torch"
   ]
  },
  {
   "cell_type": "code",
   "execution_count": null,
   "id": "13045889",
   "metadata": {},
   "outputs": [
    {
     "data": {
      "text/plain": [
       "tensor(3.1400)"
      ]
     },
     "execution_count": 3,
     "metadata": {},
     "output_type": "execute_result"
    }
   ],
   "source": [
    "torch_scalar = torch.tensor(3.14) # A scalar tensor\n",
    "torch_scalar"
   ]
  },
  {
   "cell_type": "code",
   "execution_count": 5,
   "id": "86ae13d4",
   "metadata": {},
   "outputs": [
    {
     "name": "stdout",
     "output_type": "stream",
     "text": [
      "tensor([2, 4, 6, 8])\n"
     ]
    }
   ],
   "source": [
    "torch_vector = torch.tensor([2, 4, 6, 8])\n",
    "print(torch_vector) # A vector tensor"
   ]
  },
  {
   "cell_type": "code",
   "execution_count": 6,
   "id": "16cc6608",
   "metadata": {},
   "outputs": [
    {
     "name": "stdout",
     "output_type": "stream",
     "text": [
      "tensor([[12, 14],\n",
      "        [16, 18],\n",
      "        [20, 22],\n",
      "        [24, 26]])\n"
     ]
    }
   ],
   "source": [
    "torch_matrix = torch.tensor([[12, 14],[16, 18],[20, 22],[24, 26]]) # 2D matrix tensor\n",
    "\n",
    "print(torch_matrix) # A matrix tensor"
   ]
  },
  {
   "cell_type": "code",
   "execution_count": 9,
   "id": "e1e29a6d",
   "metadata": {},
   "outputs": [
    {
     "name": "stdout",
     "output_type": "stream",
     "text": [
      "tensor([[[ 0,  2,  4],\n",
      "         [ 6,  8, 10]],\n",
      "\n",
      "        [[12, 14, 16],\n",
      "         [18, 20, 22]],\n",
      "\n",
      "        [[24, 26, 28],\n",
      "         [30, 32, 34]],\n",
      "\n",
      "        [[36, 38, 40],\n",
      "         [42, 44, 46]]])\n"
     ]
    }
   ],
   "source": [
    "torch_tensor3d = torch.tensor([[[0, 2, 4],\n",
    "                                [6, 8, 10],],\n",
    "                                [\n",
    "                                    [12, 14, 16],\n",
    "                                [18, 20, 22],\n",
    "                                ],\n",
    "                                [\n",
    "                                    [24, 26, 28],\n",
    "                                 [30, 32, 34],\n",
    "                                 ],\n",
    "                                 [\n",
    "                                     [36, 38, 40],\n",
    "                                 [42, 44, 46],\n",
    "                                 ]\n",
    "                                 ]) # 3D tensor\n",
    "\n",
    "print(torch_tensor3d) # A 3D tensor"
   ]
  },
  {
   "cell_type": "code",
   "execution_count": 10,
   "id": "e9b92d25",
   "metadata": {},
   "outputs": [
    {
     "name": "stdout",
     "output_type": "stream",
     "text": [
      "torch.Size([4, 2, 3])\n"
     ]
    }
   ],
   "source": [
    "print(torch_tensor3d.shape)"
   ]
  },
  {
   "cell_type": "code",
   "execution_count": 11,
   "id": "df7cff17",
   "metadata": {},
   "outputs": [
    {
     "name": "stdout",
     "output_type": "stream",
     "text": [
      "[[0.82467713 0.82293648 0.36871067 0.32399462 0.45503352]\n",
      " [0.50602184 0.75604264 0.05875321 0.53357969 0.18709218]\n",
      " [0.5581018  0.63834105 0.80935675 0.35702525 0.94816296]]\n",
      "tensor([[0.8247, 0.8229, 0.3687, 0.3240, 0.4550],\n",
      "        [0.5060, 0.7560, 0.0588, 0.5336, 0.1871],\n",
      "        [0.5581, 0.6383, 0.8094, 0.3570, 0.9482]], dtype=torch.float64)\n"
     ]
    }
   ],
   "source": [
    "import numpy as np\n",
    "import torch\n",
    "\n",
    "# Create a random NumPy array\n",
    "x_np = np.random.random((3, 5))  # 3 rows, 5 columns\n",
    "print(x_np)\n",
    "# Example output (values will be random):\n",
    "# [[0.56347291 0.17683452 0.84931799 0.94718427 0.26507189]\n",
    "#  [0.04859423 0.35608158 0.91547634 0.70918372 0.12945809]\n",
    "#  [0.31789047 0.93812456 0.25783918 0.15896174 0.79729465]]\n",
    "\n",
    "# Convert the NumPy array to a PyTorch tensor\n",
    "x_pt = torch.tensor(x_np)\n",
    "print(x_pt)\n",
    "# Example output (values will be random):\n",
    "# tensor([[0.5635, 0.1768, 0.8493, 0.9472, 0.2651],\n",
    "#         [0.0486, 0.3561, 0.9155, 0.7092, 0.1295],\n",
    "#         [0.3179, 0.9381, 0.2578, 0.1590, 0.7973]], dtype=torch.float64)"
   ]
  },
  {
   "cell_type": "code",
   "execution_count": 14,
   "id": "c20688bb",
   "metadata": {},
   "outputs": [
    {
     "name": "stdout",
     "output_type": "stream",
     "text": [
      "torch.int64\n"
     ]
    }
   ],
   "source": [
    "print(torch_tensor3d.dtype)"
   ]
  },
  {
   "cell_type": "code",
   "execution_count": 17,
   "id": "c7b47d1b",
   "metadata": {},
   "outputs": [
    {
     "name": "stdout",
     "output_type": "stream",
     "text": [
      "float64 torch.float64\n",
      "float32 torch.float32\n"
     ]
    }
   ],
   "source": [
    "print(x_np.dtype, x_pt.dtype) \n",
    "\n",
    "\n",
    "x_np = np.asarray(x_np, dtype=np.float32)     \n",
    "x_pt = torch.tensor(x_np, dtype=torch.float32) \n",
    "print(x_np.dtype, x_pt.dtype) "
   ]
  },
  {
   "cell_type": "code",
   "execution_count": 19,
   "id": "c59b658e",
   "metadata": {},
   "outputs": [
    {
     "name": "stdout",
     "output_type": "stream",
     "text": [
      "[[ True  True False False False]\n",
      " [ True  True False  True False]\n",
      " [ True  True  True False  True]]\n",
      "bool\n"
     ]
    }
   ],
   "source": [
    "# Masking Operations\n",
    "b_np = x_np > 0.5\n",
    "print(b_np)\n",
    "print(b_np.dtype)"
   ]
  },
  {
   "cell_type": "code",
   "execution_count": 20,
   "id": "ddc5cee3",
   "metadata": {},
   "outputs": [
    {
     "name": "stdout",
     "output_type": "stream",
     "text": [
      "tensor([[ True,  True, False, False, False],\n",
      "        [ True,  True, False,  True, False],\n",
      "        [ True,  True,  True, False,  True]])\n",
      "torch.bool\n"
     ]
    }
   ],
   "source": [
    "b_pt = x_pt > 0.5\n",
    "print(b_pt)\n",
    "print(b_pt.dtype)"
   ]
  },
  {
   "cell_type": "code",
   "execution_count": null,
   "id": "e5a7bd1a",
   "metadata": {},
   "outputs": [
    {
     "name": "stdout",
     "output_type": "stream",
     "text": [
      "torch.float32\n"
     ]
    }
   ],
   "source": [
    "# Common pytorch functions\n",
    "import torch\n",
    "\n",
    "# Create a tensor\n",
    "x = torch.tensor([[1., 2., 3.],[4., 5., 6.,]\n",
    "                 ])  \n",
    "# Check the data type of the tensor\n",
    "print(x.dtype)"
   ]
  },
  {
   "cell_type": "code",
   "execution_count": 25,
   "id": "6f308ef0",
   "metadata": {},
   "outputs": [
    {
     "name": "stdout",
     "output_type": "stream",
     "text": [
      "tensor([1., 2., 3.])\n",
      "tensor([2., 5.])\n"
     ]
    }
   ],
   "source": [
    "# 1. Indexing and slicing\n",
    "print(x[0]) # first row\n",
    "print(x[:, 1]) # second column"
   ]
  },
  {
   "cell_type": "code",
   "execution_count": 26,
   "id": "ca7f49e1",
   "metadata": {},
   "outputs": [
    {
     "name": "stdout",
     "output_type": "stream",
     "text": [
      "tensor([[0., 0., 0.],\n",
      "        [0., 0., 0.]])\n"
     ]
    }
   ],
   "source": [
    "# Tensor Creation\n",
    "zeros = torch.zeros((2,3)) # Create a tensor filled with zeros\n",
    "print(zeros)"
   ]
  },
  {
   "cell_type": "code",
   "execution_count": 27,
   "id": "d1f62abc",
   "metadata": {},
   "outputs": [
    {
     "name": "stdout",
     "output_type": "stream",
     "text": [
      "tensor([[1., 1., 1., 1., 1., 1.],\n",
      "        [1., 1., 1., 1., 1., 1.],\n",
      "        [1., 1., 1., 1., 1., 1.],\n",
      "        [1., 1., 1., 1., 1., 1.]])\n"
     ]
    }
   ],
   "source": [
    "ones = torch.ones((4, 6)) # Create a tensor filled with ones\n",
    "print(ones)"
   ]
  },
  {
   "cell_type": "code",
   "execution_count": null,
   "id": "80d4c676",
   "metadata": {},
   "outputs": [],
   "source": []
  }
 ],
 "metadata": {
  "kernelspec": {
   "display_name": "torchDL",
   "language": "python",
   "name": "python3"
  },
  "language_info": {
   "codemirror_mode": {
    "name": "ipython",
    "version": 3
   },
   "file_extension": ".py",
   "mimetype": "text/x-python",
   "name": "python",
   "nbconvert_exporter": "python",
   "pygments_lexer": "ipython3",
   "version": "3.11.13"
  }
 },
 "nbformat": 4,
 "nbformat_minor": 5
}
